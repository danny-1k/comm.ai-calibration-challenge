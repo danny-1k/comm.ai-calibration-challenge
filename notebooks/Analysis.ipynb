{
 "cells": [
  {
   "cell_type": "code",
   "execution_count": 3,
   "id": "71044bcf",
   "metadata": {},
   "outputs": [],
   "source": [
    "import pandas as pd\n",
    "import matplotlib.pyplot as plt\n",
    "import numpy as np"
   ]
  },
  {
   "cell_type": "code",
   "execution_count": 16,
   "id": "9aab93ea",
   "metadata": {},
   "outputs": [],
   "source": [
    "df = pd.read_csv('../1.txt',delimiter=' ',names=['pitch','yaw'])"
   ]
  },
  {
   "cell_type": "code",
   "execution_count": 17,
   "id": "abe140f8",
   "metadata": {},
   "outputs": [
    {
     "data": {
      "text/plain": [
       "Index(['pitch', 'yaw'], dtype='object')"
      ]
     },
     "execution_count": 17,
     "metadata": {},
     "output_type": "execute_result"
    }
   ],
   "source": [
    "df.columns"
   ]
  },
  {
   "cell_type": "code",
   "execution_count": 18,
   "id": "1b911293",
   "metadata": {},
   "outputs": [
    {
     "data": {
      "text/html": [
       "<div>\n",
       "<style scoped>\n",
       "    .dataframe tbody tr th:only-of-type {\n",
       "        vertical-align: middle;\n",
       "    }\n",
       "\n",
       "    .dataframe tbody tr th {\n",
       "        vertical-align: top;\n",
       "    }\n",
       "\n",
       "    .dataframe thead th {\n",
       "        text-align: right;\n",
       "    }\n",
       "</style>\n",
       "<table border=\"1\" class=\"dataframe\">\n",
       "  <thead>\n",
       "    <tr style=\"text-align: right;\">\n",
       "      <th></th>\n",
       "      <th>pitch</th>\n",
       "      <th>yaw</th>\n",
       "    </tr>\n",
       "  </thead>\n",
       "  <tbody>\n",
       "    <tr>\n",
       "      <th>0</th>\n",
       "      <td>0.062393</td>\n",
       "      <td>0.011597</td>\n",
       "    </tr>\n",
       "    <tr>\n",
       "      <th>1</th>\n",
       "      <td>0.062287</td>\n",
       "      <td>0.011739</td>\n",
       "    </tr>\n",
       "    <tr>\n",
       "      <th>2</th>\n",
       "      <td>0.062424</td>\n",
       "      <td>0.011857</td>\n",
       "    </tr>\n",
       "    <tr>\n",
       "      <th>3</th>\n",
       "      <td>0.062401</td>\n",
       "      <td>0.012297</td>\n",
       "    </tr>\n",
       "    <tr>\n",
       "      <th>4</th>\n",
       "      <td>0.062273</td>\n",
       "      <td>0.012177</td>\n",
       "    </tr>\n",
       "  </tbody>\n",
       "</table>\n",
       "</div>"
      ],
      "text/plain": [
       "      pitch       yaw\n",
       "0  0.062393  0.011597\n",
       "1  0.062287  0.011739\n",
       "2  0.062424  0.011857\n",
       "3  0.062401  0.012297\n",
       "4  0.062273  0.012177"
      ]
     },
     "execution_count": 18,
     "metadata": {},
     "output_type": "execute_result"
    }
   ],
   "source": [
    "df.head()"
   ]
  },
  {
   "cell_type": "code",
   "execution_count": 19,
   "id": "6404a6fe",
   "metadata": {},
   "outputs": [
    {
     "name": "stdout",
     "output_type": "stream",
     "text": [
      "<class 'pandas.core.frame.DataFrame'>\n",
      "RangeIndex: 1200 entries, 0 to 1199\n",
      "Data columns (total 2 columns):\n",
      " #   Column  Non-Null Count  Dtype  \n",
      "---  ------  --------------  -----  \n",
      " 0   pitch   1200 non-null   float64\n",
      " 1   yaw     1200 non-null   float64\n",
      "dtypes: float64(2)\n",
      "memory usage: 18.9 KB\n"
     ]
    }
   ],
   "source": [
    "df.info()"
   ]
  },
  {
   "cell_type": "code",
   "execution_count": 20,
   "id": "6bd93b83",
   "metadata": {},
   "outputs": [
    {
     "data": {
      "text/html": [
       "<div>\n",
       "<style scoped>\n",
       "    .dataframe tbody tr th:only-of-type {\n",
       "        vertical-align: middle;\n",
       "    }\n",
       "\n",
       "    .dataframe tbody tr th {\n",
       "        vertical-align: top;\n",
       "    }\n",
       "\n",
       "    .dataframe thead th {\n",
       "        text-align: right;\n",
       "    }\n",
       "</style>\n",
       "<table border=\"1\" class=\"dataframe\">\n",
       "  <thead>\n",
       "    <tr style=\"text-align: right;\">\n",
       "      <th></th>\n",
       "      <th>pitch</th>\n",
       "      <th>yaw</th>\n",
       "    </tr>\n",
       "  </thead>\n",
       "  <tbody>\n",
       "    <tr>\n",
       "      <th>count</th>\n",
       "      <td>1200.000000</td>\n",
       "      <td>1200.000000</td>\n",
       "    </tr>\n",
       "    <tr>\n",
       "      <th>mean</th>\n",
       "      <td>0.061178</td>\n",
       "      <td>0.010951</td>\n",
       "    </tr>\n",
       "    <tr>\n",
       "      <th>std</th>\n",
       "      <td>0.001011</td>\n",
       "      <td>0.001884</td>\n",
       "    </tr>\n",
       "    <tr>\n",
       "      <th>min</th>\n",
       "      <td>0.059116</td>\n",
       "      <td>0.004664</td>\n",
       "    </tr>\n",
       "    <tr>\n",
       "      <th>25%</th>\n",
       "      <td>0.060347</td>\n",
       "      <td>0.010350</td>\n",
       "    </tr>\n",
       "    <tr>\n",
       "      <th>50%</th>\n",
       "      <td>0.061216</td>\n",
       "      <td>0.011281</td>\n",
       "    </tr>\n",
       "    <tr>\n",
       "      <th>75%</th>\n",
       "      <td>0.061895</td>\n",
       "      <td>0.012113</td>\n",
       "    </tr>\n",
       "    <tr>\n",
       "      <th>max</th>\n",
       "      <td>0.063860</td>\n",
       "      <td>0.015095</td>\n",
       "    </tr>\n",
       "  </tbody>\n",
       "</table>\n",
       "</div>"
      ],
      "text/plain": [
       "             pitch          yaw\n",
       "count  1200.000000  1200.000000\n",
       "mean      0.061178     0.010951\n",
       "std       0.001011     0.001884\n",
       "min       0.059116     0.004664\n",
       "25%       0.060347     0.010350\n",
       "50%       0.061216     0.011281\n",
       "75%       0.061895     0.012113\n",
       "max       0.063860     0.015095"
      ]
     },
     "execution_count": 20,
     "metadata": {},
     "output_type": "execute_result"
    }
   ],
   "source": [
    "df.describe()"
   ]
  },
  {
   "cell_type": "code",
   "execution_count": 25,
   "id": "0f750692",
   "metadata": {},
   "outputs": [
    {
     "data": {
      "text/plain": [
       "pitch    0\n",
       "yaw      0\n",
       "dtype: int64"
      ]
     },
     "execution_count": 25,
     "metadata": {},
     "output_type": "execute_result"
    }
   ],
   "source": [
    "df.isnull().sum()"
   ]
  },
  {
   "cell_type": "code",
   "execution_count": 34,
   "id": "a2fea366",
   "metadata": {},
   "outputs": [
    {
     "data": {
      "text/plain": [
       "(array([ 52., 179., 120., 147., 238., 200., 150.,  48.,  42.,  24.]),\n",
       " array([0.05911619, 0.05959054, 0.0600649 , 0.06053925, 0.0610136 ,\n",
       "        0.06148795, 0.06196231, 0.06243666, 0.06291101, 0.06338537,\n",
       "        0.06385972]),\n",
       " <BarContainer object of 10 artists>)"
      ]
     },
     "execution_count": 34,
     "metadata": {},
     "output_type": "execute_result"
    },
    {
     "data": {
      "image/png": "[encoded data removed]",
      "text/plain": [
       "<Figure size 432x288 with 1 Axes>"
      ]
     },
     "metadata": {
      "needs_background": "light"
     },
     "output_type": "display_data"
    }
   ],
   "source": [
    "plt.hist(df['pitch'])"
   ]
  },
  {
   "cell_type": "code",
   "execution_count": 35,
   "id": "cf3345e6",
   "metadata": {},
   "outputs": [
    {
     "data": {
      "text/plain": [
       "(array([  9.,  23.,  78.,  86.,  67., 197., 391., 239.,  76.,  34.]),\n",
       " array([0.00466416, 0.00570725, 0.00675034, 0.00779344, 0.00883653,\n",
       "        0.00987962, 0.01092271, 0.01196581, 0.0130089 , 0.01405199,\n",
       "        0.01509508]),\n",
       " <BarContainer object of 10 artists>)"
      ]
     },
     "execution_count": 35,
     "metadata": {},
     "output_type": "execute_result"
    },
    {
     "data": {
      "image/png": "[encoded data removed]",
      "text/plain": [
       "<Figure size 432x288 with 1 Axes>"
      ]
     },
     "metadata": {
      "needs_background": "light"
     },
     "output_type": "display_data"
    }
   ],
   "source": [
    "plt.hist(df['yaw'])"
   ]
  },
  {
   "cell_type": "code",
   "execution_count": 41,
   "id": "8ce2307d",
   "metadata": {},
   "outputs": [],
   "source": [
    "data_files = [f'{i}.txt' for i in range(0,5)]"
   ]
  },
  {
   "cell_type": "code",
   "execution_count": 42,
   "id": "19b0c18c",
   "metadata": {},
   "outputs": [
    {
     "data": {
      "text/plain": [
       "['0.txt', '1.txt', '2.txt', '3.txt', '4.txt']"
      ]
     },
     "execution_count": 42,
     "metadata": {},
     "output_type": "execute_result"
    }
   ],
   "source": [
    "data_files"
   ]
  },
  {
   "cell_type": "code",
   "execution_count": 43,
   "id": "492ed1d1",
   "metadata": {},
   "outputs": [],
   "source": [
    "large_txt = ''\n",
    "\n",
    "\n",
    "for f in data_files:\n",
    "    large_txt += open(f'../{f}','r').read()\n",
    "    large_txt += '\\n'"
   ]
  },
  {
   "cell_type": "code",
   "execution_count": 52,
   "id": "7461e20b",
   "metadata": {},
   "outputs": [
    {
     "data": {
      "text/plain": [
       "258771"
      ]
     },
     "execution_count": 52,
     "metadata": {},
     "output_type": "execute_result"
    }
   ],
   "source": [
    "open('combined.txt','w').write(large_txt)"
   ]
  },
  {
   "cell_type": "code",
   "execution_count": 54,
   "id": "6addae1b",
   "metadata": {},
   "outputs": [],
   "source": [
    "df = pd.read_csv('combined.txt',delimiter=' ',names=['pitch','yaw'])"
   ]
  },
  {
   "cell_type": "code",
   "execution_count": 55,
   "id": "12243463",
   "metadata": {},
   "outputs": [
    {
     "data": {
      "text/plain": [
       "(5996, 2)"
      ]
     },
     "execution_count": 55,
     "metadata": {},
     "output_type": "execute_result"
    }
   ],
   "source": [
    "df.shape"
   ]
  },
  {
   "cell_type": "code",
   "execution_count": 56,
   "id": "eb44ccf1",
   "metadata": {},
   "outputs": [
    {
     "data": {
      "text/html": [
       "<div>\n",
       "<style scoped>\n",
       "    .dataframe tbody tr th:only-of-type {\n",
       "        vertical-align: middle;\n",
       "    }\n",
       "\n",
       "    .dataframe tbody tr th {\n",
       "        vertical-align: top;\n",
       "    }\n",
       "\n",
       "    .dataframe thead th {\n",
       "        text-align: right;\n",
       "    }\n",
       "</style>\n",
       "<table border=\"1\" class=\"dataframe\">\n",
       "  <thead>\n",
       "    <tr style=\"text-align: right;\">\n",
       "      <th></th>\n",
       "      <th>pitch</th>\n",
       "      <th>yaw</th>\n",
       "    </tr>\n",
       "  </thead>\n",
       "  <tbody>\n",
       "    <tr>\n",
       "      <th>count</th>\n",
       "      <td>5019.000000</td>\n",
       "      <td>5019.000000</td>\n",
       "    </tr>\n",
       "    <tr>\n",
       "      <th>mean</th>\n",
       "      <td>0.033165</td>\n",
       "      <td>0.033881</td>\n",
       "    </tr>\n",
       "    <tr>\n",
       "      <th>std</th>\n",
       "      <td>0.017718</td>\n",
       "      <td>0.020637</td>\n",
       "    </tr>\n",
       "    <tr>\n",
       "      <th>min</th>\n",
       "      <td>0.002175</td>\n",
       "      <td>0.000701</td>\n",
       "    </tr>\n",
       "    <tr>\n",
       "      <th>25%</th>\n",
       "      <td>0.018612</td>\n",
       "      <td>0.014278</td>\n",
       "    </tr>\n",
       "    <tr>\n",
       "      <th>50%</th>\n",
       "      <td>0.032909</td>\n",
       "      <td>0.032112</td>\n",
       "    </tr>\n",
       "    <tr>\n",
       "      <th>75%</th>\n",
       "      <td>0.039886</td>\n",
       "      <td>0.052585</td>\n",
       "    </tr>\n",
       "    <tr>\n",
       "      <th>max</th>\n",
       "      <td>0.063860</td>\n",
       "      <td>0.182125</td>\n",
       "    </tr>\n",
       "  </tbody>\n",
       "</table>\n",
       "</div>"
      ],
      "text/plain": [
       "             pitch          yaw\n",
       "count  5019.000000  5019.000000\n",
       "mean      0.033165     0.033881\n",
       "std       0.017718     0.020637\n",
       "min       0.002175     0.000701\n",
       "25%       0.018612     0.014278\n",
       "50%       0.032909     0.032112\n",
       "75%       0.039886     0.052585\n",
       "max       0.063860     0.182125"
      ]
     },
     "execution_count": 56,
     "metadata": {},
     "output_type": "execute_result"
    }
   ],
   "source": [
    "df.describe()"
   ]
  },
  {
   "cell_type": "code",
   "execution_count": 57,
   "id": "78a563bb",
   "metadata": {},
   "outputs": [
    {
     "data": {
      "text/plain": [
       "pitch    977\n",
       "yaw      977\n",
       "dtype: int64"
      ]
     },
     "execution_count": 57,
     "metadata": {},
     "output_type": "execute_result"
    }
   ],
   "source": [
    "df.isnull().sum()"
   ]
  },
  {
   "cell_type": "code",
   "execution_count": 89,
   "id": "d682addd",
   "metadata": {},
   "outputs": [
    {
     "data": {
      "text/plain": [
       "(array([  47.,  878.,  526.,  652.,  433., 1222.,   59.,    2.,    0.,\n",
       "        1200.]),\n",
       " array([0.00217486, 0.00834334, 0.01451183, 0.02068031, 0.0268488 ,\n",
       "        0.03301729, 0.03918577, 0.04535426, 0.05152275, 0.05769123,\n",
       "        0.06385972]),\n",
       " <BarContainer object of 10 artists>)"
      ]
     },
     "execution_count": 89,
     "metadata": {},
     "output_type": "execute_result"
    },
    {
     "data": {
      "image/png": "[encoded data removed]",
      "text/plain": [
       "<Figure size 432x288 with 1 Axes>"
      ]
     },
     "metadata": {
      "needs_background": "light"
     },
     "output_type": "display_data"
    }
   ],
   "source": [
    "plt.hist(df['pitch'],bins=10)"
   ]
  },
  {
   "cell_type": "code",
   "execution_count": 87,
   "id": "afc7a8e7",
   "metadata": {},
   "outputs": [
    {
     "data": {
      "text/plain": [
       "(array([1432., 1793.,  922.,  829.,    2.,    7.,    3.,    6.,   13.,\n",
       "          12.]),\n",
       " array([0.0007007 , 0.01884316, 0.03698562, 0.05512808, 0.07327054,\n",
       "        0.09141299, 0.10955545, 0.12769791, 0.14584037, 0.16398283,\n",
       "        0.18212529]),\n",
       " <BarContainer object of 10 artists>)"
      ]
     },
     "execution_count": 87,
     "metadata": {},
     "output_type": "execute_result"
    },
    {
     "data": {
      "image/png": "[encoded data removed]",
      "text/plain": [
       "<Figure size 432x288 with 1 Axes>"
      ]
     },
     "metadata": {
      "needs_background": "light"
     },
     "output_type": "display_data"
    }
   ],
   "source": [
    "plt.hist(df['yaw'],bins=10)"
   ]
  },
  {
   "cell_type": "code",
   "execution_count": 91,
   "id": "39eae5eb",
   "metadata": {},
   "outputs": [
    {
     "data": {
      "text/plain": [
       "[<matplotlib.lines.Line2D at 0x2bf58d9feb0>]"
      ]
     },
     "execution_count": 91,
     "metadata": {},
     "output_type": "execute_result"
    },
    {
     "data": {
      "image/png": "[encoded data removed]",
      "text/plain": [
       "<Figure size 432x288 with 1 Axes>"
      ]
     },
     "metadata": {
      "needs_background": "light"
     },
     "output_type": "display_data"
    }
   ],
   "source": [
    "#plot the pitch & yaw for a drive run\n",
    "\n",
    "first = df.iloc[:1200]\n",
    "\n",
    "plt.title('Plot of yaw & pitch')\n",
    "\n",
    "plt.xlabel('Timesteps (frame)')\n",
    "plt.ylabel('Pitch/Yaw value')\n",
    "\n",
    "plt.plot(first['pitch'])\n",
    "plt.plot(first['yaw'])"
   ]
  }
 ],
 "metadata": {
  "kernelspec": {
   "display_name": "Python 3 (ipykernel)",
   "language": "python",
   "name": "python3"
  },
  "language_info": {
   "codemirror_mode": {
    "name": "ipython",
    "version": 3
   },
   "file_extension": ".py",
   "mimetype": "text/x-python",
   "name": "python",
   "nbconvert_exporter": "python",
   "pygments_lexer": "ipython3",
   "version": "3.9.6"
  }
 },
 "nbformat": 4,
 "nbformat_minor": 5
}
